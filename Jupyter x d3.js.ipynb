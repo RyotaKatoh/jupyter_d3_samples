{
 "cells": [
  {
   "cell_type": "code",
   "execution_count": 1,
   "metadata": {
    "collapsed": true
   },
   "outputs": [],
   "source": [
    "import py_d3"
   ]
  },
  {
   "cell_type": "code",
   "execution_count": 2,
   "metadata": {
    "collapsed": false
   },
   "outputs": [],
   "source": [
    "py_d3.load_ipython_extension(get_ipython())"
   ]
  },
  {
   "cell_type": "code",
   "execution_count": 28,
   "metadata": {
    "collapsed": false
   },
   "outputs": [
    {
     "data": {
      "text/html": [
       "\n",
       "<script>\n",
       "requirejs.config({\n",
       "    paths: {\n",
       "        d3: \"//cdnjs.cloudflare.com/ajax/libs/d3/3.5.17/d3\"\n",
       "    }\n",
       "});\n",
       "\n",
       "require(['d3'], function(d3) {\n",
       "    window.d3 = d3;\n",
       "});\n",
       "</script>\n",
       "<script>\n",
       "_select = d3.select;\n",
       "\n",
       "d3.select25 = function(selection) {\n",
       "    return _select(\"#d3-cell-25\").select(selection);\n",
       "}\n",
       "d3.selectAll25 = function(selection) {\n",
       "    return _select(\"#d3-cell-25\").selectAll(selection);\n",
       "}\n",
       "</script>\n",
       "<g id=\"d3-cell-25\">\n",
       "\n",
       "<style>\n",
       "circle{\n",
       "    fill: #3399ff;\n",
       "}\n",
       "</style>\n",
       "\n",
       "<div></div>\n",
       "\n",
       "<script>\n",
       "\n",
       "    var svg = d3.select25(\"div\").append(\"svg\")\n",
       "      .attr({\n",
       "        width: 500,\n",
       "        height: 500,\n",
       "      });\n",
       "        \n",
       "    \n",
       "    var circle = svg.append('circle')\n",
       "    .attr({\n",
       "      'cx': 250,\n",
       "      'cy': 100,\n",
       "      'r': 10,\n",
       "    });\n",
       "    \n",
       "\n",
       "    repeat();\n",
       "\n",
       "    function repeat() {\n",
       "      circle\n",
       "      .transition()\n",
       "      .duration(1000)\n",
       "      .ease(\"linear\")\n",
       "      .attr({\n",
       "        'cx': 400, \n",
       "        'cy': 400,\n",
       "        'r': 10\n",
       "      })\n",
       "      .transition()\n",
       "      .duration(1000)\n",
       "      .ease(\"linear\")\n",
       "      .attr({\n",
       "        'cx': 100, \n",
       "        'cy': 400,\n",
       "        'r': 10\n",
       "      })\n",
       "      .transition()\n",
       "      .duration(1000)\n",
       "      .ease(\"linear\")\n",
       "      .attr({\n",
       "        'cx': 250, \n",
       "        'cy': 100,\n",
       "        'r': 10\n",
       "      })\n",
       "      .each(\"end\", repeat);\n",
       "    }\n",
       "\n",
       "</script>\n",
       "</g>"
      ],
      "text/plain": [
       "<IPython.core.display.HTML object>"
      ]
     },
     "metadata": {},
     "output_type": "display_data"
    }
   ],
   "source": [
    "%%d3\n",
    "\n",
    "<style>\n",
    "circle{\n",
    "    fill: #3399ff;\n",
    "}\n",
    "</style>\n",
    "\n",
    "<div></div>\n",
    "\n",
    "<script>\n",
    "\n",
    "var svg = d3.select(\"div\").append(\"svg\")\n",
    "  .attr({\n",
    "    width: 500,\n",
    "    height: 500,\n",
    "  });\n",
    "\n",
    "\n",
    "var circle = svg.append('circle')\n",
    ".attr({\n",
    "  'cx': 250,\n",
    "  'cy': 100,\n",
    "  'r': 10,\n",
    "});\n",
    "\n",
    "\n",
    "repeat();\n",
    "\n",
    "function repeat() {\n",
    "  circle\n",
    "  .transition()\n",
    "  .duration(1000)\n",
    "  .ease(\"linear\")\n",
    "  .attr({\n",
    "    'cx': 400, \n",
    "    'cy': 400,\n",
    "    'r': 10\n",
    "  })\n",
    "  .transition()\n",
    "  .duration(1000)\n",
    "  .ease(\"linear\")\n",
    "  .attr({\n",
    "    'cx': 100, \n",
    "    'cy': 400,\n",
    "    'r': 10\n",
    "  })\n",
    "  .transition()\n",
    "  .duration(1000)\n",
    "  .ease(\"linear\")\n",
    "  .attr({\n",
    "    'cx': 250, \n",
    "    'cy': 100,\n",
    "    'r': 10\n",
    "  })\n",
    "  .each(\"end\", repeat);\n",
    "}\n",
    "\n",
    "</script>"
   ]
  },
  {
   "cell_type": "code",
   "execution_count": null,
   "metadata": {
    "collapsed": true
   },
   "outputs": [],
   "source": []
  }
 ],
 "metadata": {
  "kernelspec": {
   "display_name": "Python 3",
   "language": "python",
   "name": "python3"
  },
  "language_info": {
   "codemirror_mode": {
    "name": "ipython",
    "version": 3
   },
   "file_extension": ".py",
   "mimetype": "text/x-python",
   "name": "python",
   "nbconvert_exporter": "python",
   "pygments_lexer": "ipython3",
   "version": "3.5.2"
  }
 },
 "nbformat": 4,
 "nbformat_minor": 0
}
