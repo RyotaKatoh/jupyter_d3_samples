{
 "cells": [
  {
   "cell_type": "code",
   "execution_count": 1,
   "metadata": {
    "collapsed": true
   },
   "outputs": [],
   "source": [
    "import py_d3"
   ]
  },
  {
   "cell_type": "code",
   "execution_count": 2,
   "metadata": {
    "collapsed": true
   },
   "outputs": [],
   "source": [
    "py_d3.load_ipython_extension(get_ipython())"
   ]
  },
  {
   "cell_type": "code",
   "execution_count": 29,
   "metadata": {
    "collapsed": true
   },
   "outputs": [],
   "source": [
    "import pandas as pd\n",
    "import random\n",
    "import json"
   ]
  },
  {
   "cell_type": "markdown",
   "metadata": {},
   "source": [
    "### create sample data"
   ]
  },
  {
   "cell_type": "code",
   "execution_count": 33,
   "metadata": {
    "collapsed": false
   },
   "outputs": [],
   "source": [
    "samples = ['%03.2f'%(random.random()*100) for i in range(6)]\n",
    "data = pd.DataFrame(samples, index=['item0', 'item1', 'item2', 'item3', 'item4', 'item5'])\n",
    "to_json = dict(data[0])\n",
    "with open('data/sample2.json', 'w') as fp:\n",
    "    json.dump(to_json, fp)"
   ]
  },
  {
   "cell_type": "code",
   "execution_count": 58,
   "metadata": {
    "collapsed": false
   },
   "outputs": [
    {
     "data": {
      "text/html": [
       "\n",
       "<script>\n",
       "requirejs.config({\n",
       "    paths: {\n",
       "        d3: \"//cdnjs.cloudflare.com/ajax/libs/d3/3.5.17/d3\"\n",
       "    }\n",
       "});\n",
       "\n",
       "require(['d3'], function(d3) {\n",
       "    window.d3 = d3;\n",
       "});\n",
       "</script>\n",
       "<script>\n",
       "_select = d3.select;\n",
       "\n",
       "d3.select27 = function(selection) {\n",
       "    return _select(\"#d3-cell-27\").select(selection);\n",
       "}\n",
       "d3.selectAll27 = function(selection) {\n",
       "    return _select(\"#d3-cell-27\").selectAll(selection);\n",
       "}\n",
       "</script>\n",
       "<g id=\"d3-cell-27\">\n",
       "\n",
       "<script src=\"./src/liquidFillGauge.js\"></script>\n",
       "<style>\n",
       "    .liquidFillGaugeText { font-family: Helvetica; font-weight: bold; }\n",
       "</style>\n",
       "\n",
       "<svg id=\"fillgauge1\" width=\"97%\" height=\"250\" onclick=\"gauge1.update(NewValue());\"></svg>\n",
       "<svg id=\"fillgauge2\" width=\"19%\" height=\"200\" onclick=\"gauge2.update(NewValue());\"></svg>\n",
       "<svg id=\"fillgauge3\" width=\"19%\" height=\"200\" onclick=\"gauge3.update(NewValue());\"></svg>\n",
       "<svg id=\"fillgauge4\" width=\"19%\" height=\"200\" onclick=\"gauge4.update(NewValue());\"></svg>\n",
       "<svg id=\"fillgauge5\" width=\"19%\" height=\"200\" onclick=\"gauge5.update(NewValue());\"></svg>\n",
       "<svg id=\"fillgauge6\" width=\"19%\" height=\"200\" onclick=\"gauge6.update(NewValue());\"></svg>\n",
       "<script>\n",
       "var gauge_data;\n",
       "d3.json(\"./data/sample2.json\", function(error, items) {\n",
       "        gauge_data = items;\n",
       "        console.log(gauge_data);\n",
       "});\n",
       "</script>\n",
       "<script src=\"./src/sample2.js\"></script>\n",
       "</g>"
      ],
      "text/plain": [
       "<IPython.core.display.HTML object>"
      ]
     },
     "metadata": {},
     "output_type": "display_data"
    }
   ],
   "source": [
    "%%d3\n",
    "\n",
    "<script src=\"./src/liquidFillGauge.js\"></script>\n",
    "<style>\n",
    "    .liquidFillGaugeText { font-family: Helvetica; font-weight: bold; }\n",
    "</style>\n",
    "\n",
    "<svg id=\"fillgauge1\" width=\"97%\" height=\"250\" onclick=\"gauge1.update(NewValue());\"></svg>\n",
    "<svg id=\"fillgauge2\" width=\"19%\" height=\"200\" onclick=\"gauge2.update(NewValue());\"></svg>\n",
    "<svg id=\"fillgauge3\" width=\"19%\" height=\"200\" onclick=\"gauge3.update(NewValue());\"></svg>\n",
    "<svg id=\"fillgauge4\" width=\"19%\" height=\"200\" onclick=\"gauge4.update(NewValue());\"></svg>\n",
    "<svg id=\"fillgauge5\" width=\"19%\" height=\"200\" onclick=\"gauge5.update(NewValue());\"></svg>\n",
    "<svg id=\"fillgauge6\" width=\"19%\" height=\"200\" onclick=\"gauge6.update(NewValue());\"></svg>\n",
    "<script>\n",
    "var gauge_data;\n",
    "d3.json(\"./data/sample2.json\", function(error, items) {\n",
    "        gauge_data = items;\n",
    "        console.log(gauge_data);\n",
    "});\n",
    "</script>\n",
    "<script src=\"./src/sample2.js\"></script>"
   ]
  },
  {
   "cell_type": "code",
   "execution_count": null,
   "metadata": {
    "collapsed": true
   },
   "outputs": [],
   "source": []
  },
  {
   "cell_type": "code",
   "execution_count": null,
   "metadata": {
    "collapsed": true
   },
   "outputs": [],
   "source": []
  },
  {
   "cell_type": "code",
   "execution_count": null,
   "metadata": {
    "collapsed": true
   },
   "outputs": [],
   "source": []
  },
  {
   "cell_type": "code",
   "execution_count": null,
   "metadata": {
    "collapsed": true
   },
   "outputs": [],
   "source": []
  },
  {
   "cell_type": "code",
   "execution_count": null,
   "metadata": {
    "collapsed": true
   },
   "outputs": [],
   "source": []
  },
  {
   "cell_type": "code",
   "execution_count": null,
   "metadata": {
    "collapsed": true
   },
   "outputs": [],
   "source": []
  },
  {
   "cell_type": "code",
   "execution_count": null,
   "metadata": {
    "collapsed": true
   },
   "outputs": [],
   "source": []
  },
  {
   "cell_type": "code",
   "execution_count": null,
   "metadata": {
    "collapsed": true
   },
   "outputs": [],
   "source": []
  },
  {
   "cell_type": "code",
   "execution_count": null,
   "metadata": {
    "collapsed": true
   },
   "outputs": [],
   "source": []
  },
  {
   "cell_type": "code",
   "execution_count": null,
   "metadata": {
    "collapsed": true
   },
   "outputs": [],
   "source": []
  },
  {
   "cell_type": "code",
   "execution_count": null,
   "metadata": {
    "collapsed": true
   },
   "outputs": [],
   "source": []
  },
  {
   "cell_type": "code",
   "execution_count": null,
   "metadata": {
    "collapsed": true
   },
   "outputs": [],
   "source": []
  },
  {
   "cell_type": "code",
   "execution_count": null,
   "metadata": {
    "collapsed": true
   },
   "outputs": [],
   "source": []
  },
  {
   "cell_type": "code",
   "execution_count": null,
   "metadata": {
    "collapsed": true
   },
   "outputs": [],
   "source": []
  },
  {
   "cell_type": "code",
   "execution_count": null,
   "metadata": {
    "collapsed": true
   },
   "outputs": [],
   "source": []
  }
 ],
 "metadata": {
  "kernelspec": {
   "display_name": "Python 3",
   "language": "python",
   "name": "python3"
  },
  "language_info": {
   "codemirror_mode": {
    "name": "ipython",
    "version": 3
   },
   "file_extension": ".py",
   "mimetype": "text/x-python",
   "name": "python",
   "nbconvert_exporter": "python",
   "pygments_lexer": "ipython3",
   "version": "3.5.1"
  }
 },
 "nbformat": 4,
 "nbformat_minor": 0
}
